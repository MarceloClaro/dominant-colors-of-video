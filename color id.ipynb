{
 "cells": [
  {
   "cell_type": "markdown",
   "metadata": {},
   "source": [
    "# Seek dominant and average colors in videos"
   ]
  },
  {
   "cell_type": "code",
   "execution_count": 25,
   "metadata": {},
   "outputs": [],
   "source": [
    "import cv2\n",
    "import numpy as np\n",
    "from skimage import io\n",
    "import glob\n",
    "import pandas as pd\n",
    "from PIL import Image\n",
    "import imageio\n",
    "import os\n",
    "import shutil\n",
    "import matplotlib.pyplot as plt"
   ]
  },
  {
   "cell_type": "code",
   "execution_count": 84,
   "metadata": {},
   "outputs": [
    {
     "name": "stdout",
     "output_type": "stream",
     "text": [
      "Successfully created the directory images/vid_cap/ \n"
     ]
    }
   ],
   "source": [
    "path = \"images/vid_cap/\"\n",
    "try:\n",
    "    os.makedirs(path)\n",
    "except OSError:\n",
    "    print (\"Creation of the directory %s failed\" % path)\n",
    "else:\n",
    "    print (\"Successfully created the directory %s \" % path)\n",
    "    \n",
    "    \n",
    "cap= cv2.VideoCapture('video/sample_video_2.mp4')\n",
    "i=0\n",
    "while(cap.isOpened()):\n",
    "    ret, frame = cap.read()\n",
    "    if ret == False:\n",
    "        break\n",
    "    if i < 10:\n",
    "        cv2.imwrite(path + '000' + str(i) + '.png',frame)\n",
    "    elif i < 100:\n",
    "        cv2.imwrite(path + '00' + str(i) + '.png',frame)\n",
    "    elif i < 1000:\n",
    "        cv2.imwrite(path + '0' + str(i) + '.png',frame)\n",
    "    else:\n",
    "        cv2.imwrite(path + str(i) + '.png',frame)\n",
    "    i+=1\n",
    "\n",
    "cap.release()\n",
    "cv2.destroyAllWindows()"
   ]
  },
  {
   "cell_type": "code",
   "execution_count": 85,
   "metadata": {},
   "outputs": [
    {
     "name": "stdout",
     "output_type": "stream",
     "text": [
      "Successfully created the directory images/vid_frame/ \n"
     ]
    }
   ],
   "source": [
    "frame_path = \"images/vid_frame/\"\n",
    "try:\n",
    "    os.makedirs(frame_path)\n",
    "except OSError:\n",
    "    print (\"Creation of the directory %s failed\" % frame_path)\n",
    "else:\n",
    "    print (\"Successfully created the directory %s \" % frame_path)\n",
    "\n",
    "\n",
    "dominant_colors = {}\n",
    "average_colors = {}\n",
    "\n",
    "filelist = sorted(glob.glob(path + '*.png'))\n",
    "\n",
    "j = 0\n",
    "\n",
    "for filepath in filelist:\n",
    "    img = io.imread(filepath) #[:, :, :-1]\n",
    "\n",
    "    pixels = np.float32(img.reshape(-1, 3))\n",
    "\n",
    "    n_colors = 2\n",
    "    criteria = (cv2.TERM_CRITERIA_EPS + cv2.TERM_CRITERIA_MAX_ITER, 200, .1)\n",
    "    flags = cv2.KMEANS_RANDOM_CENTERS\n",
    "\n",
    "    _, labels, palette = cv2.kmeans(pixels, n_colors, None, criteria, 10, flags)\n",
    "    _, counts = np.unique(labels, return_counts=True)\n",
    "\n",
    "    dominant = palette[np.argmax(counts)]\n",
    "    \n",
    "    myimg = cv2.imread(filepath)\n",
    "    avg_color_per_row = np.average(myimg, axis=0)\n",
    "    avg_color = np.average(avg_color_per_row, axis=0)\n",
    "    \n",
    "    dominant_colors[filepath[8:].split('.')[0]] = dominant\n",
    "    average_colors[filepath[8:].split('.')[0]] = avg_color\n",
    "    \n",
    "    indices = np.argsort(counts)[::-1]   \n",
    "    freqs = np.cumsum(np.hstack([[0], counts[indices]/counts.sum()]))\n",
    "    rows = np.int_(img.shape[0]*freqs)\n",
    "\n",
    "    dom_patch = np.zeros(shape=img.shape, dtype=np.uint8)\n",
    "    for i in range(len(rows) - 1):\n",
    "        dom_patch[rows[i]:rows[i + 1], :, :] += np.uint8(palette[indices[i]])\n",
    "        \n",
    "    fig, (ax0) = plt.subplots(1, 1, figsize=(5,5))\n",
    "    ax0.imshow(dom_patch)\n",
    "    ax0.set_title('Dominant colors of frame ' + filepath.split('/')[-1].split('.')[0])\n",
    "    ax0.axis('off')\n",
    "    \n",
    "    available_length = len(str(len(filelist))) - len(str(j))\n",
    "    \n",
    "    fig.savefig(frame_path + 'dom_colors_pyplot_' + str(available_length * '0') + str(j) + '.png')\n",
    "            \n",
    "    j += 1\n",
    "        \n",
    "    plt.close()"
   ]
  },
  {
   "cell_type": "code",
   "execution_count": 86,
   "metadata": {},
   "outputs": [],
   "source": [
    "filenames = sorted(glob.glob(frame_path + '*.png'))\n",
    "\n",
    "images = []\n",
    "for filename in filenames:\n",
    "    images.append(imageio.imread(filename))\n",
    "imageio.mimsave('testing/color_palatte.gif', images)"
   ]
  },
  {
   "cell_type": "code",
   "execution_count": 87,
   "metadata": {},
   "outputs": [
    {
     "name": "stdout",
     "output_type": "stream",
     "text": [
      "Successfully deleted the directory images/\n"
     ]
    }
   ],
   "source": [
    "df_d = pd.DataFrame.from_dict(dominant_colors).transpose()\n",
    "df_a = pd.DataFrame.from_dict(average_colors).transpose()\n",
    "\n",
    "df_d.reset_index(inplace = True, drop = True)\n",
    "df_a.reset_index(inplace = True, drop = True)\n",
    "\n",
    "df_a = df_a.round(0).astype(int)\n",
    "df_d = df_d.round(0).astype(int)\n",
    "\n",
    "remove_path = 'images/'\n",
    "try:\n",
    "    shutil.rmtree(remove_path)\n",
    "except OSError:\n",
    "    print (\"Deletion of the directory %s failed\" % remove_path)\n",
    "else:\n",
    "    print (\"Successfully deleted the directory %s\" % remove_path)"
   ]
  },
  {
   "cell_type": "code",
   "execution_count": 107,
   "metadata": {},
   "outputs": [],
   "source": [
    "width = 500\n",
    "height = math.ceil((len(df_d) / width) * 10 ) * 10\n",
    "\n",
    "im = Image.new('RGB', (width,height))\n",
    "\n",
    "for i in range(len(df_d)):\n",
    "    for j in range(1,9):\n",
    "        for k in range (1,9):\n",
    "            x = (j + (i * 10)) % width\n",
    "            y = (j + (i * 10)) // width\n",
    "    #         print(x,y)\n",
    "            colors = (df_d[0][i], df_d[1][i], df_d[2][i])\n",
    "            im.putpixel((x,(k + (y * 10))), colors)\n",
    "\n",
    "im.save('testing/dominant_pixel.png')"
   ]
  },
  {
   "cell_type": "code",
   "execution_count": 108,
   "metadata": {},
   "outputs": [],
   "source": [
    "width = 500\n",
    "height = math.ceil((len(df_d) / width) * 10 ) * 10\n",
    "\n",
    "im = Image.new('RGB', (width,height))\n",
    "\n",
    "for i in range(len(df_a)):\n",
    "    for j in range(1,9):\n",
    "        for k in range (1,9):\n",
    "            x = (j + (i * 10)) % width\n",
    "            y = (j + (i * 10)) // width\n",
    "    #         print(x,y)\n",
    "            colors = (df_a[0][i], df_a[1][i], df_a[2][i])\n",
    "            im.putpixel((x,(k + (y * 10))), colors)\n",
    "\n",
    "im.save('testing/average_pixel.png')"
   ]
  }
 ],
 "metadata": {
  "kernelspec": {
   "display_name": "Python 3",
   "language": "python",
   "name": "python3"
  },
  "language_info": {
   "codemirror_mode": {
    "name": "ipython",
    "version": 3
   },
   "file_extension": ".py",
   "mimetype": "text/x-python",
   "name": "python",
   "nbconvert_exporter": "python",
   "pygments_lexer": "ipython3",
   "version": "3.7.3"
  }
 },
 "nbformat": 4,
 "nbformat_minor": 2
}
