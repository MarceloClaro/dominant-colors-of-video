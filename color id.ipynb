{
 "cells": [
  {
   "cell_type": "markdown",
   "metadata": {},
   "source": [
    "# Attempt using ColorThief"
   ]
  },
  {
   "cell_type": "code",
   "execution_count": null,
   "metadata": {},
   "outputs": [],
   "source": [
    "from colorthief import ColorThief\n",
    "color_thief = ColorThief('sample_image.jpg')\n",
    "# get the dominant color\n",
    "dominant_color = color_thief.get_color(quality=1)"
   ]
  },
  {
   "cell_type": "code",
   "execution_count": null,
   "metadata": {},
   "outputs": [],
   "source": [
    "color_thief.get_palette(quality=10, color_count = 10)"
   ]
  },
  {
   "cell_type": "code",
   "execution_count": null,
   "metadata": {},
   "outputs": [],
   "source": [
    "RGB2HEX(dominant_color)"
   ]
  },
  {
   "cell_type": "code",
   "execution_count": null,
   "metadata": {},
   "outputs": [],
   "source": []
  },
  {
   "cell_type": "markdown",
   "metadata": {},
   "source": [
    "# Another Way"
   ]
  },
  {
   "cell_type": "code",
   "execution_count": 1,
   "metadata": {},
   "outputs": [],
   "source": [
    "import cv2\n",
    "import numpy as np\n",
    "from skimage import io"
   ]
  },
  {
   "cell_type": "code",
   "execution_count": null,
   "metadata": {},
   "outputs": [],
   "source": [
    "img = io.imread('sample_image.png')[:, :, :-1]\n",
    "\n",
    "average = img.mean(axis=0).mean(axis=0)\n",
    "\n",
    "pixels = np.float32(img.reshape(-1, 3))\n",
    "\n",
    "n_colors = 5\n",
    "criteria = (cv2.TERM_CRITERIA_EPS + cv2.TERM_CRITERIA_MAX_ITER, 200, .1)\n",
    "flags = cv2.KMEANS_RANDOM_CENTERS\n",
    "\n",
    "_, labels, palette = cv2.kmeans(pixels, n_colors, None, criteria, 10, flags)\n",
    "_, counts = np.unique(labels, return_counts=True)\n",
    "\n",
    "\n",
    "dominant = palette[np.argmax(counts)]\n",
    "\n",
    "average = img.mean(axis=0).mean(axis=0)\n",
    "\n",
    "pixels = np.float32(img.reshape(-1, 3))\n",
    "\n",
    "n_colors = 5\n",
    "criteria = (cv2.TERM_CRITERIA_EPS + cv2.TERM_CRITERIA_MAX_ITER, 200, .1)\n",
    "flags = cv2.KMEANS_RANDOM_CENTERS\n",
    "\n",
    "_, labels, palette = cv2.kmeans(pixels, n_colors, None, criteria, 10, flags)\n",
    "_, counts = np.unique(labels, return_counts=True)\n",
    "\n",
    "\n",
    "dominant = palette[np.argmax(counts)]"
   ]
  },
  {
   "cell_type": "code",
   "execution_count": null,
   "metadata": {},
   "outputs": [],
   "source": [
    "import matplotlib.pyplot as plt\n",
    "\n",
    "avg_patch = np.ones(shape=img.shape, dtype=np.uint8)*np.uint8(average)\n",
    "\n",
    "indices = np.argsort(counts)[::-1]   \n",
    "freqs = np.cumsum(np.hstack([[0], counts[indices]/counts.sum()]))\n",
    "rows = np.int_(img.shape[0]*freqs)\n",
    "\n",
    "dom_patch = np.zeros(shape=img.shape, dtype=np.uint8)\n",
    "for i in range(len(rows) - 1):\n",
    "    dom_patch[rows[i]:rows[i + 1], :, :] += np.uint8(palette[indices[i]])\n",
    "\n",
    "fig, (ax0, ax1) = plt.subplots(1, 2, figsize=(12,6))\n",
    "ax0.imshow(avg_patch)\n",
    "ax0.set_title('Average color')\n",
    "ax0.axis('off')\n",
    "ax1.imshow(dom_patch)\n",
    "ax1.set_title('Dominant colors')\n",
    "ax1.axis('off')\n",
    "plt.show(fig)\n"
   ]
  },
  {
   "cell_type": "code",
   "execution_count": null,
   "metadata": {},
   "outputs": [],
   "source": [
    "import cv2\n",
    "\n",
    "# Opens the Video file\n",
    "cap= cv2.VideoCapture('sample_video.mp4')\n",
    "i=0\n",
    "while(cap.isOpened()):\n",
    "    ret, frame = cap.read()\n",
    "    if ret == False:\n",
    "        break\n",
    "    cv2.imwrite('vid_cap/' + str(i) + '.png',frame)\n",
    "    i+=1\n",
    "\n",
    "cap.release()\n",
    "cv2.destroyAllWindows()"
   ]
  },
  {
   "cell_type": "code",
   "execution_count": 2,
   "metadata": {},
   "outputs": [],
   "source": [
    "from tqdm import tqdm_notebook as tqdm\n",
    "import glob"
   ]
  },
  {
   "cell_type": "code",
   "execution_count": 74,
   "metadata": {
    "scrolled": false
   },
   "outputs": [],
   "source": [
    "dominant_colors = {}\n",
    "average_colors = {}\n",
    "\n",
    "filelist = glob.iglob('vid_cap/*.png')\n",
    "\n",
    "for filepath in sorted(filelist):\n",
    "    img = io.imread(filepath)[:, :, :-1]\n",
    "\n",
    "    pixels = np.float32(img.reshape(-1, 3))\n",
    "\n",
    "    n_colors = 5\n",
    "    criteria = (cv2.TERM_CRITERIA_EPS + cv2.TERM_CRITERIA_MAX_ITER, 200, .1)\n",
    "    flags = cv2.KMEANS_RANDOM_CENTERS\n",
    "\n",
    "    _, labels, palette = cv2.kmeans(pixels, n_colors, None, criteria, 10, flags)\n",
    "    _, counts = np.unique(labels, return_counts=True)\n",
    "\n",
    "    dominant = palette[np.argmax(counts)]\n",
    "    \n",
    "    myimg = cv2.imread(filepath)\n",
    "    avg_color_per_row = numpy.average(myimg, axis=0)\n",
    "    avg_color = numpy.average(avg_color_per_row, axis=0)\n",
    "    \n",
    "    dominant_colors[filepath[8:].split('.')[0]] = dominant\n",
    "    average_colors[filepath[8:].split('.')[0]] = avg_color"
   ]
  },
  {
   "cell_type": "code",
   "execution_count": 4,
   "metadata": {},
   "outputs": [],
   "source": [
    "import pandas as pd"
   ]
  },
  {
   "cell_type": "code",
   "execution_count": 105,
   "metadata": {},
   "outputs": [],
   "source": [
    "df_d = pd.DataFrame.from_dict(dominant_colors).transpose()\n",
    "df_a = pd.DataFrame.from_dict(average_colors).transpose()"
   ]
  },
  {
   "cell_type": "code",
   "execution_count": 106,
   "metadata": {},
   "outputs": [],
   "source": [
    "df_d.reset_index(inplace = True)\n",
    "df_a.reset_index(inplace = True)"
   ]
  },
  {
   "cell_type": "code",
   "execution_count": 107,
   "metadata": {},
   "outputs": [],
   "source": [
    "df_d['index'] = pd.to_numeric(df_d['index'])\n",
    "df_a['index'] = pd.to_numeric(df_a['index'])"
   ]
  },
  {
   "cell_type": "code",
   "execution_count": 111,
   "metadata": {},
   "outputs": [],
   "source": [
    "df_d.sort_values('index', inplace = True)\n",
    "df_d.reset_index(drop = True, inplace = True)\n",
    "\n",
    "df_a.sort_values('index', inplace = True)\n",
    "df_a.reset_index(drop = True, inplace = True)"
   ]
  },
  {
   "cell_type": "code",
   "execution_count": 124,
   "metadata": {},
   "outputs": [],
   "source": [
    "for i in range(len(df_d)):\n",
    "    # Create a blank 300x300 black image\n",
    "    image = np.zeros((300, 300, 3), np.uint8)\n",
    "    # Fill image with red color(set each pixel to red)\n",
    "    image[:] = (df_d[0][i], df_d[1][i], df_d[2][i])\n",
    "    if i < 10:\n",
    "        cv2.imwrite('dom_out/d00' + str(i) + '.png', image)\n",
    "    elif 9 < i < 100:\n",
    "        cv2.imwrite('dom_out/d0' + str(i) + '.png', image)\n",
    "    else:\n",
    "        cv2.imwrite('dom_out/d' + str(i) + '.png', image)\n",
    "    \n",
    "for i in range(len(df_a)):\n",
    "    # Create a blank 300x300 black image\n",
    "    image = np.zeros((300, 300, 3), np.uint8)\n",
    "    # Fill image with red color(set each pixel to red)\n",
    "    image[:] = (df_a[0][i], df_a[1][i], df_a[2][i])\n",
    "    if i < 10:\n",
    "        cv2.imwrite('avg_out/a00' + str(i) + '.png', image)\n",
    "    elif 9 < i < 100:\n",
    "        cv2.imwrite('avg_out/a0' + str(i) + '.png', image)\n",
    "    else:\n",
    "        cv2.imwrite('avg_out/a' + str(i) + '.png', image)\n"
   ]
  },
  {
   "cell_type": "markdown",
   "metadata": {},
   "source": [
    "# Make Video"
   ]
  },
  {
   "cell_type": "code",
   "execution_count": 115,
   "metadata": {},
   "outputs": [],
   "source": [
    "import os"
   ]
  },
  {
   "cell_type": "code",
   "execution_count": 145,
   "metadata": {},
   "outputs": [],
   "source": [
    "image_folder = 'avg_out'\n",
    "video_name = 'avg_out.avi'\n",
    "\n",
    "images = sorted([img for img in os.listdir(image_folder) if img.endswith(\".png\")])\n",
    "frame = cv2.imread(os.path.join(image_folder, images[0]))\n",
    "height, width, layers = frame.shape\n",
    "\n",
    "video = cv2.VideoWriter(video_name, 0, 1, frameSize = (width,height))\n",
    "\n",
    "for image in images:\n",
    "    video.write(cv2.imread(os.path.join(image_folder, image)))\n",
    "\n",
    "cv2.destroyAllWindows()\n",
    "video.release()"
   ]
  },
  {
   "cell_type": "code",
   "execution_count": null,
   "metadata": {},
   "outputs": [],
   "source": []
  }
 ],
 "metadata": {
  "kernelspec": {
   "display_name": "Python 3",
   "language": "python",
   "name": "python3"
  },
  "language_info": {
   "codemirror_mode": {
    "name": "ipython",
    "version": 3
   },
   "file_extension": ".py",
   "mimetype": "text/x-python",
   "name": "python",
   "nbconvert_exporter": "python",
   "pygments_lexer": "ipython3",
   "version": "3.7.3"
  }
 },
 "nbformat": 4,
 "nbformat_minor": 2
}
