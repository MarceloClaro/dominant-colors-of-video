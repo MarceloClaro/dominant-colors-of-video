{
 "cells": [
  {
   "cell_type": "markdown",
   "metadata": {},
   "source": [
    "# Seek dominant and average colors in videos"
   ]
  },
  {
   "cell_type": "code",
   "execution_count": 121,
   "metadata": {},
   "outputs": [],
   "source": [
    "import cv2\n",
    "import numpy as np\n",
    "from skimage import io\n",
    "import glob\n",
    "import pandas as pd\n",
    "# from PIL import ImageColor\n",
    "from PIL import Image\n",
    "# from colorutils import Color\n",
    "import imageio\n"
   ]
  },
  {
   "cell_type": "code",
   "execution_count": 86,
   "metadata": {},
   "outputs": [],
   "source": [
    "cap= cv2.VideoCapture('sample_video_2.mp4')\n",
    "i=0\n",
    "while(cap.isOpened()):\n",
    "    ret, frame = cap.read()\n",
    "    if ret == False:\n",
    "        break\n",
    "    if i < 10:\n",
    "        cv2.imwrite('vid_cap/00' + str(i) + '.png',frame)\n",
    "    elif i < 100:\n",
    "        cv2.imwrite('vid_cap/0' + str(i) + '.png',frame)\n",
    "    else:\n",
    "        cv2.imwrite('vid_cap/' + str(i) + '.png',frame)\n",
    "    i+=1\n",
    "\n",
    "cap.release()\n",
    "cv2.destroyAllWindows()"
   ]
  },
  {
   "cell_type": "code",
   "execution_count": 119,
   "metadata": {
    "scrolled": false
   },
   "outputs": [],
   "source": [
    "dominant_colors = {}\n",
    "average_colors = {}\n",
    "\n",
    "filelist = glob.iglob('vid_cap/*.png')\n",
    "\n",
    "j = 0\n",
    "\n",
    "for filepath in sorted(filelist):\n",
    "    img = io.imread(filepath) #[:, :, :-1]\n",
    "\n",
    "    pixels = np.float32(img.reshape(-1, 3))\n",
    "\n",
    "    n_colors = 5\n",
    "    criteria = (cv2.TERM_CRITERIA_EPS + cv2.TERM_CRITERIA_MAX_ITER, 200, .1)\n",
    "    flags = cv2.KMEANS_RANDOM_CENTERS\n",
    "\n",
    "    _, labels, palette = cv2.kmeans(pixels, n_colors, None, criteria, 10, flags)\n",
    "    _, counts = np.unique(labels, return_counts=True)\n",
    "\n",
    "    dominant = palette[np.argmax(counts)]\n",
    "    \n",
    "    myimg = cv2.imread(filepath)\n",
    "    avg_color_per_row = np.average(myimg, axis=0)\n",
    "    avg_color = np.average(avg_color_per_row, axis=0)\n",
    "    \n",
    "    dominant_colors[filepath[8:].split('.')[0]] = dominant\n",
    "    average_colors[filepath[8:].split('.')[0]] = avg_color\n",
    "    \n",
    "    indices = np.argsort(counts)[::-1]   \n",
    "    freqs = np.cumsum(np.hstack([[0], counts[indices]/counts.sum()]))\n",
    "    rows = np.int_(img.shape[0]*freqs)\n",
    "\n",
    "    dom_patch = np.zeros(shape=img.shape, dtype=np.uint8)\n",
    "    for i in range(len(rows) - 1):\n",
    "        dom_patch[rows[i]:rows[i + 1], :, :] += np.uint8(palette[indices[i]])\n",
    "        \n",
    "    fig, (ax0) = plt.subplots(1, 1, figsize=(5,5))\n",
    "    ax0.imshow(dom_patch)\n",
    "    ax0.set_title('Dominant colors')\n",
    "    ax0.axis('off')\n",
    "    ax0.text(0,660,'Frame ' + filepath)\n",
    "    \n",
    "    if j < 10:\n",
    "        fig.savefig('vid_frame/dom_colors_pyplot_00' + str(j) + '.png')\n",
    "    elif j < 100:\n",
    "        fig.savefig('vid_frame/dom_colors_pyplot_0' + str(j) + '.png')\n",
    "    else:\n",
    "        fig.savefig('vid_frame/dom_colors_pyplot_' + str(j) + '.png')\n",
    "    j += 1\n",
    "    \n",
    "    plt.close()\n"
   ]
  },
  {
   "cell_type": "code",
   "execution_count": 122,
   "metadata": {},
   "outputs": [],
   "source": [
    "\n",
    "filenames = sorted(glob.glob('vid_frame/*.png'))\n",
    "\n",
    "images = []\n",
    "for filename in filenames:\n",
    "    images.append(imageio.imread(filename))\n",
    "imageio.mimsave('color_palatte_2.gif', images)"
   ]
  },
  {
   "cell_type": "code",
   "execution_count": 123,
   "metadata": {},
   "outputs": [],
   "source": [
    "df_d = pd.DataFrame.from_dict(dominant_colors).transpose()\n",
    "df_a = pd.DataFrame.from_dict(average_colors).transpose()\n",
    "\n",
    "df_d.reset_index(inplace = True)\n",
    "df_a.reset_index(inplace = True)\n",
    "\n",
    "df_d['index'] = pd.to_numeric(df_d['index'])\n",
    "df_a['index'] = pd.to_numeric(df_a['index'])\n",
    "\n",
    "df_d.sort_values('index', inplace = True)\n",
    "df_d.reset_index(drop = True, inplace = True)\n",
    "\n",
    "df_a.sort_values('index', inplace = True)\n",
    "df_a.reset_index(drop = True, inplace = True)\n",
    "\n",
    "df_a = df_a.round(0).astype(int)\n",
    "df_d = df_d.round(0).astype(int)"
   ]
  },
  {
   "cell_type": "code",
   "execution_count": 124,
   "metadata": {},
   "outputs": [],
   "source": [
    "im = Image.new('RGB', (len(df_d) * 10,100)) # create the Image of size 1 pixel \n",
    "\n",
    "for j in range(100):\n",
    "    for i in range(len(df_d)):\n",
    "        for k in range(1, 10):\n",
    "            colors = (df_d[0][(i)], df_d[1][i], df_d[2][i])\n",
    "            im.putpixel(((i * 10) + k,j), colors) # or whatever color you wish\n",
    "\n",
    "im.save('dominant_pixel_2.png') # or any image format"
   ]
  },
  {
   "cell_type": "code",
   "execution_count": 125,
   "metadata": {},
   "outputs": [],
   "source": [
    "im = Image.new('RGB', (len(df_a) * 10,100)) # create the Image of size 1 pixel \n",
    "\n",
    "for j in range(100):\n",
    "    for i in range(len(df_a)):\n",
    "        for k in range(1, 10):\n",
    "            colors = (df_a[0][(i)], df_a[1][i], df_a[2][i])\n",
    "            im.putpixel(((i * 10) + k,j), colors)\n",
    "\n",
    "im.save('average_pixel_2.png') # or any image format"
   ]
  },
  {
   "cell_type": "code",
   "execution_count": null,
   "metadata": {},
   "outputs": [],
   "source": []
  }
 ],
 "metadata": {
  "kernelspec": {
   "display_name": "Python 3",
   "language": "python",
   "name": "python3"
  },
  "language_info": {
   "codemirror_mode": {
    "name": "ipython",
    "version": 3
   },
   "file_extension": ".py",
   "mimetype": "text/x-python",
   "name": "python",
   "nbconvert_exporter": "python",
   "pygments_lexer": "ipython3",
   "version": "3.7.3"
  }
 },
 "nbformat": 4,
 "nbformat_minor": 2
}
